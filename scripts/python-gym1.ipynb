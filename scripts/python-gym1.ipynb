{
 "cells": [
  {
   "cell_type": "code",
   "execution_count": 1,
   "metadata": {},
   "outputs": [],
   "source": [
    "import time\n",
    "import gym\n",
    "import random\n",
    "from IPython.display import clear_output\n",
    "import numpy as np"
   ]
  },
  {
   "cell_type": "code",
   "execution_count": 2,
   "metadata": {},
   "outputs": [],
   "source": [
    "env = gym.make(\"FrozenLake-v0\")"
   ]
  },
  {
   "cell_type": "code",
   "execution_count": 3,
   "outputs": [],
   "source": [
    "action_column_size = env.action_space.n\n",
    "observation_column_size = env.observation_space.n\n",
    "\n",
    "q_table = np.zeros((observation_column_size, action_column_size))"
   ],
   "metadata": {
    "collapsed": false,
    "pycharm": {
     "name": "#%%\n"
    }
   }
  },
  {
   "cell_type": "code",
   "execution_count": 4,
   "outputs": [
    {
     "name": "stdout",
     "output_type": "stream",
     "text": [
      "[[0. 0. 0. 0.]\n",
      " [0. 0. 0. 0.]\n",
      " [0. 0. 0. 0.]\n",
      " [0. 0. 0. 0.]\n",
      " [0. 0. 0. 0.]\n",
      " [0. 0. 0. 0.]\n",
      " [0. 0. 0. 0.]\n",
      " [0. 0. 0. 0.]\n",
      " [0. 0. 0. 0.]\n",
      " [0. 0. 0. 0.]\n",
      " [0. 0. 0. 0.]\n",
      " [0. 0. 0. 0.]\n",
      " [0. 0. 0. 0.]\n",
      " [0. 0. 0. 0.]\n",
      " [0. 0. 0. 0.]\n",
      " [0. 0. 0. 0.]]\n"
     ]
    }
   ],
   "source": [
    "print(q_table)"
   ],
   "metadata": {
    "collapsed": false,
    "pycharm": {
     "name": "#%%\n"
    }
   }
  },
  {
   "cell_type": "code",
   "execution_count": 5,
   "outputs": [],
   "source": [
    "num_ep = 10000\n",
    "num_step = 100\n",
    "\n",
    "discount_rate = 0.99\n",
    "learning_rate = 0.1\n",
    "\n",
    "exploration_rate = 1\n",
    "max_exp_rate = 1\n",
    "min_exp_rate = 0.01\n",
    "exp_rate_decay = 0.001"
   ],
   "metadata": {
    "collapsed": false,
    "pycharm": {
     "name": "#%%\n"
    }
   }
  },
  {
   "cell_type": "code",
   "execution_count": null,
   "outputs": [],
   "source": [
    "all_ep_reward = []\n",
    "\n",
    "for episode in range(num_ep):\n",
    "    state = env.reset()\n",
    "    done = False\n",
    "    current_ep_reward = 0\n",
    "\n",
    "    for step in range(num_step):\n",
    "        exploration_rate_threshold = random.uniform(0, 1)\n",
    "        if exploration_rate_threshold > exploration_rate:\n",
    "            action = np.argmax(q_table[state,:])\n",
    "        else:\n",
    "            action = env.action_space.sample()\n",
    "\n",
    "        new_state, reward, done, info = env.step(action)\n",
    "\n",
    "        q_table[state, action] = q_table[state, action] * (1 - learning_rate) + \\\n",
    "                    learning_rate * (reward + discount_rate * np.max(q_table[new_state, :]))\n",
    "\n",
    "        state = new_state\n",
    "        current_ep_reward += reward\n",
    "\n",
    "        if done == True:\n",
    "            break\n",
    "    \n",
    "    exploration_rate = min_exp_rate + \\\n",
    "        (max_exp_rate - min_exp_rate) * np.exp(-exp_rate_decay*episode)\n",
    "    \n",
    "    all_ep_reward.append(current_ep_reward)\n",
    "\n",
    "rewards_per_thousand_episodes = np.split(np.array(all_ep_reward),num_ep/1000)\n",
    "count = 1000\n",
    "\n",
    "print(\"-------------Average reward per thousand episodes-------------\\n\")\n",
    "for r in rewards_per_thousand_episodes:\n",
    "    print(count, \": \", str(sum(r/1000)))\n",
    "    count += 1000"
   ],
   "metadata": {
    "collapsed": false,
    "pycharm": {
     "name": "#%%\n",
     "is_executing": true
    }
   }
  },
  {
   "cell_type": "markdown",
   "source": [
    "the first loop initialises the state, this is the reset of the environment each different episode.\n",
    "the done boolean is used to flag when the end of the episode is reached\n",
    "\n",
    "the second loop is used for each individual time step process the exploration and exploitation balance is calculated\n",
    "the selection statement thereby deciding between choosing exploitation or exploration\n",
    "\n",
    "if the generated random value is greater than the exploration rate, then the exploit task is run, this finds the greatest\n",
    "value inside the q table and chooses that as the action\n",
    "\n",
    "the exploration action is a random action chosen from the list of possible actions to take inside the state\n",
    "\n",
    "the time step using the action will generate a tuple containing the new state generated, the reward, a done boolean value\n",
    "and info for debugging the environment\n",
    "\n",
    "the q table can now be updated with the current state action pair using the learning rate defined previously\n",
    "\n",
    "the future state is assigned to the state returned from taking action and\n",
    "the current episode reward is updated\n",
    "\n",
    "if the done boolean was assigned true, break the time step loop\n",
    "\n",
    "then the exploration rate can be decreased and the total episodic reward array is appended with the episodes total reward\n",
    "\n",
    "all the episodes reward data is output per thousand episodes\n",
    "\n"
   ],
   "metadata": {
    "collapsed": false,
    "pycharm": {
     "name": "#%% md\n"
    }
   }
  }
 ],
 "metadata": {
  "kernelspec": {
   "display_name": "Python 3.7.6 64-bit",
   "language": "python",
   "name": "python37664bitd0b078c581744c51ba9098f8d851824d"
  },
  "language_info": {
   "codemirror_mode": {
    "name": "ipython",
    "version": 3
   },
   "file_extension": ".py",
   "mimetype": "text/x-python",
   "name": "python",
   "nbconvert_exporter": "python",
   "pygments_lexer": "ipython3",
   "version": "3.7.6"
  }
 },
 "nbformat": 4,
 "nbformat_minor": 4
}